{
 "cells": [
  {
   "cell_type": "code",
   "execution_count": 1,
   "metadata": {},
   "outputs": [
    {
     "name": "stdout",
     "output_type": "stream",
     "text": [
      "Enter your name: Darshita\n",
      "Hello Darshita\n"
     ]
    }
   ],
   "source": [
    "#2.2 Write a program that uses input to prompt a user for their name and then welcomes them.\n",
    "var1 = input('Enter your name: ');\n",
    "print (\"Hello \" + var1);"
   ]
  },
  {
   "cell_type": "code",
   "execution_count": 11,
   "metadata": {},
   "outputs": [
    {
     "name": "stdout",
     "output_type": "stream",
     "text": [
      "Enter hours: 45\n",
      "Enter rate: 23\n",
      "Pay:  1092.5\n"
     ]
    }
   ],
   "source": [
    "hours = input(\"Enter hours: \");\n",
    "hours=int(hours);\n",
    "rate = input(\"Enter rate: \");\n",
    "rate= float(rate);\n",
    "\n",
    "if hours<=40:\n",
    "    pay = hours*rate;\n",
    "    print(\"Pay: \", pay);\n",
    "else :\n",
    "    ex_hours = hours - 40;\n",
    "    ex_rate = rate*1.5;\n",
    "    pay = 40*rate+ex_hours*ex_rate;\n",
    "    \n",
    "    print(\"Pay: \", pay);"
   ]
  },
  {
   "cell_type": "code",
   "execution_count": 12,
   "metadata": {},
   "outputs": [
    {
     "name": "stdout",
     "output_type": "stream",
     "text": [
      "Enter hrs: 2\n",
      "Enter rate: 4\n",
      "pay:  8.0\n"
     ]
    }
   ],
   "source": [
    "try:\n",
    "    hours = int(input(\"Enter hrs: \"))\n",
    "    rate = float(input(\"Enter rate: \"))\n",
    "    pay = hours*rate\n",
    "    print(\"pay: \", pay)\n",
    "except:\n",
    "    print(\"Please Enter decimal data\")\n",
    "\n"
   ]
  },
  {
   "cell_type": "code",
   "execution_count": 2,
   "metadata": {},
   "outputs": [
    {
     "name": "stdout",
     "output_type": "stream",
     "text": [
      "Enter Hour:20\n",
      "Eenter Rate per Hour:14\n",
      "Pay: 280.0\n"
     ]
    }
   ],
   "source": [
    "hrs= input(\"Enter Hour:\")\n",
    "rate= input(\"Eenter Rate per Hour:\")\n",
    "pay= float(hrs)*float (rate)\n",
    "print(\"Pay:\", pay)"
   ]
  },
  {
   "cell_type": "code",
   "execution_count": 3,
   "metadata": {},
   "outputs": [
    {
     "name": "stdout",
     "output_type": "stream",
     "text": [
      "Enter Hour:20\n",
      "Eenter Rate per Hour:14.05\n",
      "Pay: 281.0\n"
     ]
    }
   ],
   "source": [
    "hrs= input(\"Enter Hour:\")\n",
    "rate= input(\"Eenter Rate per Hour:\")\n",
    "pay= float(hrs)*float (rate)\n",
    "print(\"Pay:\", pay)"
   ]
  },
  {
   "cell_type": "code",
   "execution_count": 16,
   "metadata": {},
   "outputs": [
    {
     "name": "stdout",
     "output_type": "stream",
     "text": [
      "Hiii\n",
      "Heyyaa\n"
     ]
    }
   ],
   "source": [
    "def groot():\n",
    "    print(\"Hiii\")\n",
    "def marvel():\n",
    "    print(\"Heyyaa\")\n",
    "groot()\n",
    "marvel()"
   ]
  },
  {
   "cell_type": "code",
   "execution_count": 4,
   "metadata": {},
   "outputs": [
    {
     "ename": "SyntaxError",
     "evalue": "Missing parentheses in call to 'print'. Did you mean print(width/2)? (<ipython-input-4-2643da1518be>, line 3)",
     "output_type": "error",
     "traceback": [
      "\u001b[1;36m  File \u001b[1;32m\"<ipython-input-4-2643da1518be>\"\u001b[1;36m, line \u001b[1;32m3\u001b[0m\n\u001b[1;33m    print width/2\u001b[0m\n\u001b[1;37m              ^\u001b[0m\n\u001b[1;31mSyntaxError\u001b[0m\u001b[1;31m:\u001b[0m Missing parentheses in call to 'print'. Did you mean print(width/2)?\n"
     ]
    }
   ],
   "source": [
    "width = 17\n",
    "height = 12.0\n",
    "print width/2\n",
    "print type(width/2)"
   ]
  },
  {
   "cell_type": "code",
   "execution_count": 5,
   "metadata": {},
   "outputs": [
    {
     "ename": "SyntaxError",
     "evalue": "invalid syntax (<ipython-input-5-54641c1e742d>, line 4)",
     "output_type": "error",
     "traceback": [
      "\u001b[1;36m  File \u001b[1;32m\"<ipython-input-5-54641c1e742d>\"\u001b[1;36m, line \u001b[1;32m4\u001b[0m\n\u001b[1;33m    print type(width/2);\u001b[0m\n\u001b[1;37m             ^\u001b[0m\n\u001b[1;31mSyntaxError\u001b[0m\u001b[1;31m:\u001b[0m invalid syntax\n"
     ]
    }
   ],
   "source": [
    "width = 17;\n",
    "height = 12.0;\n",
    "print (width/2);\n",
    "print type(width/2);"
   ]
  },
  {
   "cell_type": "code",
   "execution_count": 6,
   "metadata": {},
   "outputs": [
    {
     "name": "stdout",
     "output_type": "stream",
     "text": [
      "8.5\n",
      "<class 'float'>\n"
     ]
    }
   ],
   "source": [
    "width = 17;\n",
    "height = 12.0;\n",
    "print (width/2);\n",
    "print (type(width/2));"
   ]
  },
  {
   "cell_type": "code",
   "execution_count": 7,
   "metadata": {},
   "outputs": [
    {
     "name": "stdout",
     "output_type": "stream",
     "text": [
      "8.5\n",
      "<class 'float'>\n"
     ]
    }
   ],
   "source": [
    "width = 17;\n",
    "height = 12.0;\n",
    "print (width/2.0);\n",
    "print (type(width/2.0));"
   ]
  },
  {
   "cell_type": "code",
   "execution_count": 8,
   "metadata": {},
   "outputs": [
    {
     "name": "stdout",
     "output_type": "stream",
     "text": [
      "8\n",
      "<class 'float'>\n"
     ]
    }
   ],
   "source": [
    "width = 17;\n",
    "height = 12.0;\n",
    "print (width//2);\n",
    "print (type(width/2));"
   ]
  },
  {
   "cell_type": "code",
   "execution_count": 9,
   "metadata": {},
   "outputs": [
    {
     "name": "stdout",
     "output_type": "stream",
     "text": [
      "4.0\n",
      "<class 'float'>\n"
     ]
    }
   ],
   "source": [
    "width = 17;\n",
    "height = 12.0;\n",
    "print (height/3);\n",
    "print (type(height/3));"
   ]
  },
  {
   "cell_type": "code",
   "execution_count": 10,
   "metadata": {},
   "outputs": [
    {
     "name": "stdout",
     "output_type": "stream",
     "text": [
      "11\n",
      "<class 'int'>\n"
     ]
    }
   ],
   "source": [
    "print (1 + 2 * 5);\n",
    "print (type(1 + 2 * 5));"
   ]
  },
  {
   "cell_type": "code",
   "execution_count": null,
   "metadata": {},
   "outputs": [],
   "source": [
    "temp_Celcius = input('Enter a temp in Celcius: ')\n",
    "temp_Farenheight = (float(temp_Celcius) * 1.8) + 32\n",
    "print ('This is equivalent to '),\n",
    "print temp_Farenheight,\n",
    "print (' degrees Farenheight')"
   ]
  }
 ],
 "metadata": {
  "kernelspec": {
   "display_name": "Python 3",
   "language": "python",
   "name": "python3"
  },
  "language_info": {
   "codemirror_mode": {
    "name": "ipython",
    "version": 3
   },
   "file_extension": ".py",
   "mimetype": "text/x-python",
   "name": "python",
   "nbconvert_exporter": "python",
   "pygments_lexer": "ipython3",
   "version": "3.7.3"
  }
 },
 "nbformat": 4,
 "nbformat_minor": 2
}
